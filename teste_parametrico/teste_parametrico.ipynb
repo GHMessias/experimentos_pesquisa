{
 "cells": [
  {
   "cell_type": "code",
   "execution_count": 1,
   "metadata": {},
   "outputs": [],
   "source": [
    "import sys\n",
    "sys.path.append(\"/home/gui/Documents/Experimentos_Pesquisa/experimentos_pesquisa\")\n",
    "\n",
    "import warnings\n",
    "warnings.filterwarnings(\"ignore\")\n",
    "\n",
    "from Auxiliares.requirements import *\n",
    "from Auxiliares.auxiliar_functions import *\n",
    "from Auxiliares.NN_models import *\n",
    "\n",
    "from Algoritmos.LP_PUL import LP_PUL\n",
    "from Algoritmos.AE_PUL import autoencoder_PUL_model\n",
    "from Algoritmos.CCRNE import CCRNE\n",
    "from Algoritmos.MCLS import MCLS\n",
    "from Algoritmos.PU_LP import PU_LP\n",
    "from Algoritmos.RCSVM_RN import RCSVM_RN\n",
    "from Algoritmos.GAE_PUL import graphautoencoder_PUL_model"
   ]
  },
  {
   "cell_type": "markdown",
   "metadata": {},
   "source": [
    "# Criando o dataset sintético"
   ]
  },
  {
   "cell_type": "code",
   "execution_count": 2,
   "metadata": {},
   "outputs": [],
   "source": [
    "from sklearn.datasets import make_gaussian_quantiles"
   ]
  },
  {
   "cell_type": "code",
   "execution_count": 3,
   "metadata": {},
   "outputs": [],
   "source": [
    "# Criando o grafo\n",
    "G = nx.LFR_benchmark_graph(n=1000, tau1=2, tau2=1.1, mu=0.5, min_degree=4, max_degree=12, min_community=200, max_community=200)\n",
    "communities = {frozenset(G.nodes[v][\"community\"]) for v in G}"
   ]
  },
  {
   "cell_type": "code",
   "execution_count": 4,
   "metadata": {},
   "outputs": [],
   "source": [
    "_X, _y = make_gaussian_quantiles(n_samples = 1000, n_features=32, n_classes=5)\n",
    "_y = torch.tensor(_y)\n",
    "_X = 0.5 * torch.tensor(_X)\n",
    "noise = torch.rand_like(_X)\n",
    "_X += noise"
   ]
  },
  {
   "cell_type": "code",
   "execution_count": 5,
   "metadata": {},
   "outputs": [],
   "source": [
    "# Inicializando um dicionário para armazenar as listas de nós por comunidade\n",
    "community_lists = {frozenset(c): [] for c in communities}\n",
    "\n",
    "# Preenchendo as listas de nós por comunidade\n",
    "for node in G.nodes():\n",
    "    node_comm = frozenset(G.nodes[node][\"community\"])\n",
    "    community_lists[node_comm].append(node)\n",
    "\n",
    "# Convertendo o dicionário de listas em uma lista de listas\n",
    "list_of_lists = list(community_lists.values())\n",
    "\n",
    "# Imprimindo as listas de nós por comunidade\n",
    "# for idx, community in enumerate(list_of_lists):\n",
    "#     print(f\"Comunidade {idx + 1}: {community}\")\n",
    "#     print(len(community))"
   ]
  },
  {
   "cell_type": "code",
   "execution_count": 6,
   "metadata": {},
   "outputs": [],
   "source": [
    "X = torch.zeros_like(_X)\n",
    "y = torch.zeros_like(_y)\n",
    "for i in range(5):\n",
    "    indices = torch.nonzero(_y == i).squeeze().tolist()\n",
    "    for j in range(200):\n",
    "        y[list_of_lists[i][j]] = _y[indices[j]]\n",
    "        X[list_of_lists[i][j]] = _X[indices[j]]"
   ]
  },
  {
   "cell_type": "code",
   "execution_count": 7,
   "metadata": {},
   "outputs": [],
   "source": [
    "positive_label = [3]\n",
    "y = [1 if y[x] in positive_label else 0 for x in range(1000)]\n",
    "\n",
    "all_positives = [index for index in range(len(y)) if y[index] == 1]\n",
    "all_negatives = [index for index in range(len(y)) if y[index] == 0]"
   ]
  },
  {
   "cell_type": "markdown",
   "metadata": {},
   "source": [
    "## Testando o parâmetro num_neg"
   ]
  },
  {
   "cell_type": "code",
   "execution_count": null,
   "metadata": {},
   "outputs": [],
   "source": [
    "results_AE = list()\n",
    "results_GAE1 = list()\n",
    "results_GAE2 = list()\n",
    "results_GAE3 = list()\n",
    "results_GAE4 = list()\n",
    "\n",
    "num_neg_list = list(range(1, 250, 1))\n",
    "\n",
    "for i in range(5):\n",
    "    positives = random.sample(all_positives, int(0.2 * len(all_positives)))\n",
    "    unlabeled = list(set(range(len(G.nodes()))) - set(positives))\n",
    "\n",
    "    model_AE = AutoEncoder(input_size=X.shape[1], hidden_size1=16, hidden_size2=4)\n",
    "    model_GAE1 = GraphAutoEncoder(input_dim=X.shape[1], hidden_dim1=16, hidden_dim2=4)\n",
    "    model_GAE2 = GraphAutoEncoder(input_dim=X.shape[1], hidden_dim1=16, hidden_dim2=4)\n",
    "    model_GAE3 = GraphAutoEncoder(input_dim=X.shape[1], hidden_dim1=16, hidden_dim2=4)\n",
    "    model_GAE4 = GraphAutoEncoder(input_dim=X.shape[1], hidden_dim1=16, hidden_dim2=4)\n",
    "\n",
    "    optimizer_AE = optim.Adam(model_AE.parameters(), lr=0.001)\n",
    "    optimizer_GAE1 = optim.Adam(model_GAE1.parameters(), lr=0.001)\n",
    "    optimizer_GAE2 = optim.Adam(model_GAE2.parameters(), lr=0.001)\n",
    "    optimizer_GAE3 = optim.Adam(model_GAE3.parameters(), lr=0.001)\n",
    "    optimizer_GAE4 = optim.Adam(model_GAE4.parameters(), lr=0.001)\n",
    "\n",
    "    edge_index = torch.tensor(list(G.edges)).t().contiguous() # GAE_PUL1\n",
    "\n",
    "    G1 = connect_nearest_nodes(G, positives, 5) # GAE_PUL3\n",
    "    edge_index1 = torch.tensor(list(G1.edges)).t().contiguous() # GAE_PUL3\n",
    "\n",
    "    edge_weight1 = strong_connect_positives(positives, edge_index1, 3) # GAE_PUL4\n",
    "    edge_weight2 = dijkstra_n_weight(G, edge_index, positives, 5, 3) # GAE_PUL2\n",
    "\n",
    "    algorithms = {\n",
    "            'AE_PUL' : autoencoder_PUL_model(model = model_AE, optimizer = optimizer_AE, epochs = 5, data = X, positives = positives, unlabeled = unlabeled),\n",
    "            'GAE_PUL1' : graphautoencoder_PUL_model(model = model_GAE1, optimizer = optimizer_GAE1, epochs = 5, data = X, positives = positives, unlabeled = unlabeled, edge_index = edge_index, edge_weight = None),\n",
    "            'GAE_PUL2' : graphautoencoder_PUL_model(model = model_GAE2, optimizer = optimizer_GAE2, epochs = 5, data = X, positives = positives, unlabeled = unlabeled, edge_index = edge_index, edge_weight = edge_weight2),\n",
    "            'GAE_PUL3' : graphautoencoder_PUL_model(model = model_GAE2, optimizer = optimizer_GAE2, epochs = 5, data = X, positives = positives, unlabeled = unlabeled, edge_index = edge_index1, edge_weight = None),\n",
    "            'GAE_PUL4' : graphautoencoder_PUL_model(model = model_GAE3, optimizer = optimizer_GAE3, epochs = 5, data = X, positives = positives, unlabeled = unlabeled, edge_index = edge_index1, edge_weight = edge_weight1),\n",
    "    }\n",
    "\n",
    "\n",
    "\n",
    "    for algorithm in algorithms:\n",
    "        algorithms[algorithm].train()\n",
    "        for num_neg in num_neg_list:\n",
    "            RN = algorithms[algorithm].negative_inference(num_neg)\n",
    "            acc = round(compute_accuracy(y, RN), 4)\n",
    "            f1 = round(compute_f1_score(y, RN), 4)\n",
    "            if algorithm == 'AE_PUL':\n",
    "                results_AE.append((num_neg, acc, f1))\n",
    "            elif algorithm == 'GAE_PUL1':\n",
    "                results_GAE1.append((num_neg, acc, f1))\n",
    "            elif algorithm == 'GAE_PUL2':\n",
    "                results_GAE2.append((num_neg, acc, f1))\n",
    "            elif algorithm == 'GAE_PUL3':\n",
    "                results_GAE3.append((num_neg, acc, f1))\n",
    "            elif algorithm == 'GAE_PUL4':\n",
    "                results_GAE4.append((num_neg, acc, f1))\n",
    "\n",
    "df_num_neg = pd.DataFrame()\n",
    "df_num_neg['num_neg'] = [x[0] for x in results_AE]\n",
    "df_num_neg['acc_AE'] = [x[1] for x in results_AE]\n",
    "df_num_neg['f1_AE'] = [x[2] for x in results_AE]\n",
    "df_num_neg['acc_GAE1'] = [x[1] for x in results_GAE1]\n",
    "df_num_neg['f1_GAE1'] = [x[2] for x in results_GAE1]\n",
    "df_num_neg['acc_GAE2'] = [x[1] for x in results_GAE2]\n",
    "df_num_neg['f1_GAE2'] = [x[2] for x in results_GAE2]\n",
    "df_num_neg['acc_GAE3'] = [x[1] for x in results_GAE3]\n",
    "df_num_neg['f1_GAE3'] = [x[2] for x in results_GAE3]\n",
    "df_num_neg['acc_GAE4'] = [x[1] for x in results_GAE4]\n",
    "df_num_neg['f1_GAE4'] = [x[2] for x in results_GAE4]\n",
    "\n",
    "df_num_neg.to_csv('resultados_experimento_num_neg.csv', index = False)\n"
   ]
  },
  {
   "cell_type": "markdown",
   "metadata": {},
   "source": [
    "## Testando o parâmetro epoch"
   ]
  },
  {
   "cell_type": "code",
   "execution_count": 9,
   "metadata": {},
   "outputs": [],
   "source": [
    "epochs = list(range(1,40,3))\n",
    "results_AE = list()\n",
    "results_GAE1 = list()\n",
    "results_GAE2 = list()\n",
    "results_GAE3 = list()\n",
    "results_GAE4 = list()\n",
    "for i in range(5):\n",
    "    for epoch in epochs:\n",
    "        positives = random.sample(all_positives, int(0.1 * len(all_positives)))\n",
    "        unlabeled = list(set(range(len(G.nodes()))) - set(positives))\n",
    "\n",
    "\n",
    "        model_AE = AutoEncoder(input_size=X.shape[1], hidden_size1=16, hidden_size2=4)\n",
    "        model_GAE1 = GraphAutoEncoder(input_dim=X.shape[1], hidden_dim1=16, hidden_dim2=4)\n",
    "        model_GAE2 = GraphAutoEncoder(input_dim=X.shape[1], hidden_dim1=16, hidden_dim2=4)\n",
    "        model_GAE3 = GraphAutoEncoder(input_dim=X.shape[1], hidden_dim1=16, hidden_dim2=4)\n",
    "        model_GAE4 = GraphAutoEncoder(input_dim=X.shape[1], hidden_dim1=16, hidden_dim2=4)\n",
    "\n",
    "        optimizer_AE = optim.Adam(model_AE.parameters(), lr=0.001)\n",
    "        optimizer_GAE1 = optim.Adam(model_GAE1.parameters(), lr=0.001)\n",
    "        optimizer_GAE2 = optim.Adam(model_GAE2.parameters(), lr=0.001)\n",
    "        optimizer_GAE3 = optim.Adam(model_GAE3.parameters(), lr=0.001)\n",
    "        optimizer_GAE4 = optim.Adam(model_GAE4.parameters(), lr=0.001)\n",
    "\n",
    "        edge_index = torch.tensor(list(G.edges)).t().contiguous() # GAE_PUL1\n",
    "\n",
    "        G1 = connect_nearest_nodes(G, positives, 5) # GAE_PUL3\n",
    "        edge_index1 = torch.tensor(list(G1.edges)).t().contiguous() # GAE_PUL3\n",
    "\n",
    "        edge_weight1 = strong_connect_positives(positives, edge_index1, 3) # GAE_PUL4\n",
    "        edge_weight2 = dijkstra_n_weight(G, edge_index, positives, 5, 3) # GAE_PUL2\n",
    "\n",
    "        algorithms = {\n",
    "                'AE_PUL' : autoencoder_PUL_model(model = model_AE, optimizer = optimizer_AE, epochs = 5, data = X, positives = positives, unlabeled = unlabeled),\n",
    "                'GAE_PUL1' : graphautoencoder_PUL_model(model = model_GAE1, optimizer = optimizer_GAE1, epochs = epoch, data = X, positives = positives, unlabeled = unlabeled, edge_index = edge_index, edge_weight = None),\n",
    "                'GAE_PUL2' : graphautoencoder_PUL_model(model = model_GAE2, optimizer = optimizer_GAE2, epochs = epoch, data = X, positives = positives, unlabeled = unlabeled, edge_index = edge_index, edge_weight = edge_weight2),\n",
    "                'GAE_PUL3' : graphautoencoder_PUL_model(model = model_GAE2, optimizer = optimizer_GAE2, epochs = epoch, data = X, positives = positives, unlabeled = unlabeled, edge_index = edge_index1, edge_weight = None),\n",
    "                'GAE_PUL4' : graphautoencoder_PUL_model(model = model_GAE3, optimizer = optimizer_GAE3, epochs = epoch, data = X, positives = positives, unlabeled = unlabeled, edge_index = edge_index1, edge_weight = edge_weight1),\n",
    "        }\n",
    "\n",
    "\n",
    "\n",
    "        for algorithm in algorithms:\n",
    "            algorithms[algorithm].train()\n",
    "            RN = algorithms[algorithm].negative_inference(100)\n",
    "            acc = round(compute_accuracy(y, RN), 4)\n",
    "            f1 = round(compute_f1_score(y, RN), 4)\n",
    "            if algorithm == 'AE_PUL':\n",
    "                results_AE.append((epoch, acc, f1))\n",
    "            elif algorithm == 'GAE_PUL1':\n",
    "                results_GAE1.append((epoch, acc, f1))\n",
    "            elif algorithm == 'GAE_PUL2':\n",
    "                results_GAE2.append((epoch, acc, f1))\n",
    "            elif algorithm == 'GAE_PUL3':\n",
    "                results_GAE3.append((epoch, acc, f1))\n",
    "            elif algorithm == 'GAE_PUL4':\n",
    "                results_GAE4.append((epoch, acc, f1))\n",
    "\n",
    "df_epoch = pd.DataFrame()\n",
    "df_epoch['epoch'] = [x[0] for x in results_AE]\n",
    "df_epoch['acc_AE'] = [x[1] for x in results_AE]\n",
    "df_epoch['f1_AE'] = [x[2] for x in results_AE]\n",
    "df_epoch['acc_GAE1'] = [x[1] for x in results_GAE1]\n",
    "df_epoch['f1_GAE1'] = [x[2] for x in results_GAE1]\n",
    "df_epoch['acc_GAE2'] = [x[1] for x in results_GAE2]\n",
    "df_epoch['f1_GAE2'] = [x[2] for x in results_GAE2]\n",
    "df_epoch['acc_GAE3'] = [x[1] for x in results_GAE3]\n",
    "df_epoch['f1_GAE3'] = [x[2] for x in results_GAE3]\n",
    "df_epoch['acc_GAE4'] = [x[1] for x in results_GAE4]\n",
    "df_epoch['f1_GAE4'] = [x[2] for x in results_GAE4]\n",
    "\n",
    "df_epoch.to_csv('resultados_experimento_epoch.csv', index = False)\n"
   ]
  },
  {
   "cell_type": "markdown",
   "metadata": {},
   "source": [
    "## Testando os Hiperparâmetros da regularização\n",
    "\n",
    "Aqui serão testados os parâmetros de:\n",
    "* quantidade de vizinhos para a ligação direta alterando a topologia do grafo - GAE_PUL3\n",
    "* quantidade de vizinhos para computar o shortest path, aumentando as arestas definidas de interesse - GAE_PUL2\n",
    "* valor real do aumento das arestas para a mudança de topologia - GAE_PUL4"
   ]
  },
  {
   "cell_type": "code",
   "execution_count": 1,
   "metadata": {},
   "outputs": [
    {
     "ename": "SyntaxError",
     "evalue": "incomplete input (390095165.py, line 7)",
     "output_type": "error",
     "traceback": [
      "\u001b[0;36m  Cell \u001b[0;32mIn[1], line 7\u001b[0;36m\u001b[0m\n\u001b[0;31m    for i in range(5):\u001b[0m\n\u001b[0m                      ^\u001b[0m\n\u001b[0;31mSyntaxError\u001b[0m\u001b[0;31m:\u001b[0m incomplete input\n"
     ]
    }
   ],
   "source": [
    "# GAE_PUL2\n",
    "\n",
    "results_GAE2 = list()\n",
    "\n",
    "num_neg = 100\n",
    "\n",
    "for i in range(5):\n",
    "    model_GAE2 = GraphAutoEncoder(input_dim=X.shape[1], hidden_dim1=16, hidden_dim2=4)\n",
    "    optimizer_GAE2 = optim.Adam(model_GAE2.parameters(), lr=0.001)"
   ]
  },
  {
   "cell_type": "code",
   "execution_count": null,
   "metadata": {},
   "outputs": [],
   "source": []
  }
 ],
 "metadata": {
  "kernelspec": {
   "display_name": "Python 3",
   "language": "python",
   "name": "python3"
  },
  "language_info": {
   "codemirror_mode": {
    "name": "ipython",
    "version": 3
   },
   "file_extension": ".py",
   "mimetype": "text/x-python",
   "name": "python",
   "nbconvert_exporter": "python",
   "pygments_lexer": "ipython3",
   "version": "3.10.12"
  },
  "orig_nbformat": 4
 },
 "nbformat": 4,
 "nbformat_minor": 2
}
